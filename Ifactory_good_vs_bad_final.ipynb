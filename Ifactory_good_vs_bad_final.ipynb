{
 "cells": [
  {
   "cell_type": "code",
   "execution_count": 1,
   "metadata": {
    "scrolled": true
   },
   "outputs": [],
   "source": [
    "import cv2                 # working with, mainly resizing, images\n",
    "import numpy as np         # dealing with arrays\n",
    "import os                  # dealing with directories\n",
    "from random import shuffle # mixing up or currently ordered data that might lead our network astray in training.\n",
    "from tqdm import tqdm      # a nice pretty percentage bar for tasks. Thanks to viewer Daniel BA1/4hler for this suggestion"
   ]
  },
  {
   "cell_type": "code",
   "execution_count": 2,
   "metadata": {},
   "outputs": [
    {
     "name": "stdout",
     "output_type": "stream",
     "text": [
      "Requirement already satisfied: tqdm in c:\\users\\mahmo\\anaconda3\\lib\\site-packages (4.19.5)\n"
     ]
    },
    {
     "name": "stderr",
     "output_type": "stream",
     "text": [
      "WARNING: You are using pip version 19.1, however version 19.1.1 is available.\n",
      "You should consider upgrading via the 'python -m pip install --upgrade pip' command.\n"
     ]
    }
   ],
   "source": [
    "!pip install tqdm"
   ]
  },
  {
   "cell_type": "code",
   "execution_count": 14,
   "metadata": {},
   "outputs": [],
   "source": [
    "#TRAIN_DIR = 'train_n'\n",
    "GOOD_DIR = 'dataset/good'\n",
    "BAD_DIR = 'dataset/bad'\n",
    "TEST_DIR = 'dataset/final_test'\n",
    "IMG_SIZE = 512\n",
    "LR = 0.001"
   ]
  },
  {
   "cell_type": "code",
   "execution_count": 15,
   "metadata": {},
   "outputs": [],
   "source": [
    "MODEL_NAME = 'Ifact-{}-{}.model'.format(LR, '2conv-basic') # just so we remember which saved model is which, sizes must match\n"
   ]
  },
  {
   "cell_type": "code",
   "execution_count": 16,
   "metadata": {},
   "outputs": [],
   "source": [
    "def create_train_data():\n",
    "    training_data = []\n",
    "    \n",
    "    for img in tqdm(os.listdir(GOOD_DIR)):\n",
    "        label = [1.0,0.0] # 'good'\n",
    "        path = os.path.join(GOOD_DIR,img)\n",
    "        img = cv2.imread(path,cv2.IMREAD_GRAYSCALE)\n",
    "        img = cv2.resize(img, (IMG_SIZE,IMG_SIZE))/255\n",
    "        training_data.append([np.array(img),np.array(label)])\n",
    "    \n",
    "    for img in tqdm(os.listdir(BAD_DIR)):\n",
    "        label = [0.0,1.0] #'bad'\n",
    "        path = os.path.join(BAD_DIR,img)\n",
    "        img = cv2.imread(path,cv2.IMREAD_GRAYSCALE)\n",
    "        img = cv2.resize(img, (IMG_SIZE,IMG_SIZE))/255\n",
    "        training_data.append([np.array(img),np.array(label)])\n",
    "    \n",
    "    shuffle(training_data)\n",
    "    np.save('train_data.npy', training_data)\n",
    "    \n",
    "    return training_data"
   ]
  },
  {
   "cell_type": "code",
   "execution_count": 17,
   "metadata": {},
   "outputs": [],
   "source": [
    "def process_test_data():\n",
    "    testing_data = []\n",
    "    cnt = 0\n",
    "    for img in tqdm(os.listdir(TEST_DIR)):\n",
    "        path = os.path.join(TEST_DIR,img)\n",
    "        img_num = img.split('.')[0]\n",
    "        print(img_num)\n",
    "        img = cv2.imread(path,cv2.IMREAD_GRAYSCALE)\n",
    "        img = cv2.resize(img, (IMG_SIZE,IMG_SIZE))\n",
    "        testing_data.append([np.array(img), img_num])\n",
    "        cnt += 1\n",
    "        \n",
    "    shuffle(testing_data)\n",
    "    np.save('test_data.npy', testing_data)"
   ]
  },
  {
   "cell_type": "code",
   "execution_count": null,
   "metadata": {},
   "outputs": [],
   "source": []
  },
  {
   "cell_type": "code",
   "execution_count": 18,
   "metadata": {},
   "outputs": [
    {
     "name": "stderr",
     "output_type": "stream",
     "text": [
      "100%|██████████████████████████████████████████████████████████████████████████████████████████████████████████████████████████████████████████████████████████████████████████████████████████████████████| 66/66 [00:00<00:00, 295.36it/s]\n",
      "100%|██████████████████████████████████████████████████████████████████████████████████████████████████████████████████████████████████████████████████████████████████████████████████████████████████████| 55/55 [00:00<00:00, 294.86it/s]\n",
      "  0%|                                                                                                                                                                                                               | 0/300 [00:00<?, ?it/s]"
     ]
    },
    {
     "name": "stdout",
     "output_type": "stream",
     "text": [
      "IMG_0001\n",
      "IMG_0002\n",
      "IMG_0003\n",
      "IMG_0004\n",
      "IMG_0005\n",
      "IMG_0006\n",
      "IMG_0007\n",
      "IMG_0008\n",
      "IMG_0009\n",
      "IMG_0010\n",
      "IMG_0011\n",
      "IMG_0012\n",
      "IMG_0013\n",
      "IMG_0014\n",
      "IMG_0015\n",
      "IMG_0016\n",
      "IMG_0017\n",
      "IMG_0018\n",
      "IMG_0019\n",
      "IMG_0020\n"
     ]
    },
    {
     "name": "stderr",
     "output_type": "stream",
     "text": [
      "\r",
      "  7%|█████████████▏                                                                                                                                                                                       | 20/300 [00:00<00:01, 191.00it/s]"
     ]
    },
    {
     "name": "stdout",
     "output_type": "stream",
     "text": [
      "IMG_0021\n",
      "IMG_0022\n",
      "IMG_0023\n",
      "IMG_0024\n",
      "IMG_0025\n",
      "IMG_0026\n",
      "IMG_0027\n",
      "IMG_0028\n",
      "IMG_0029\n",
      "IMG_0030\n",
      "IMG_0031\n",
      "IMG_0032\n",
      "IMG_0033\n",
      "IMG_0034\n",
      "IMG_0035\n",
      "IMG_0036\n",
      "IMG_0037\n",
      "IMG_0038\n",
      "IMG_0039\n",
      "IMG_0040\n",
      "IMG_0041\n"
     ]
    },
    {
     "name": "stderr",
     "output_type": "stream",
     "text": [
      "\r",
      " 14%|██████████████████████████▉                                                                                                                                                                          | 41/300 [00:00<00:01, 196.70it/s]"
     ]
    },
    {
     "name": "stdout",
     "output_type": "stream",
     "text": [
      "IMG_0042\n",
      "IMG_0043\n",
      "IMG_0044\n",
      "IMG_0045\n",
      "IMG_0046\n",
      "IMG_0047\n",
      "IMG_0048\n",
      "IMG_0049\n",
      "IMG_0050\n",
      "IMG_0051\n",
      "IMG_0052\n",
      "IMG_0053\n",
      "IMG_0054\n",
      "IMG_0055\n",
      "IMG_0056\n",
      "IMG_0057\n",
      "IMG_0058\n",
      "IMG_0059\n",
      "IMG_0060\n",
      "IMG_0061\n",
      "IMG_0062\n",
      "IMG_0063\n"
     ]
    },
    {
     "name": "stderr",
     "output_type": "stream",
     "text": [
      "\r",
      " 21%|█████████████████████████████████████████▎                                                                                                                                                           | 63/300 [00:00<00:01, 201.18it/s]"
     ]
    },
    {
     "name": "stdout",
     "output_type": "stream",
     "text": [
      "IMG_0064\n",
      "IMG_0065\n",
      "IMG_0066\n",
      "IMG_0067\n",
      "IMG_0068\n",
      "IMG_0069\n",
      "IMG_0070\n",
      "IMG_0071\n",
      "IMG_0072\n",
      "IMG_0073\n",
      "IMG_0074\n",
      "IMG_0075\n",
      "IMG_0076\n",
      "IMG_0077\n",
      "IMG_0078\n",
      "IMG_0079\n",
      "IMG_0080\n",
      "IMG_0081\n",
      "IMG_0082\n",
      "IMG_0083\n",
      "IMG_0084\n",
      "IMG_0085\n"
     ]
    },
    {
     "name": "stderr",
     "output_type": "stream",
     "text": [
      "\r",
      " 28%|███████████████████████████████████████████████████████▊                                                                                                                                             | 85/300 [00:00<00:01, 203.90it/s]"
     ]
    },
    {
     "name": "stdout",
     "output_type": "stream",
     "text": [
      "IMG_0086\n",
      "IMG_0087\n",
      "IMG_0088\n",
      "IMG_0089\n",
      "IMG_0090\n",
      "IMG_0091\n",
      "IMG_0092\n",
      "IMG_0093\n",
      "IMG_0094\n",
      "IMG_0095\n",
      "IMG_0096\n",
      "IMG_0097\n",
      "IMG_0098\n",
      "IMG_0099\n",
      "IMG_0100\n",
      "IMG_0101\n",
      "IMG_0102\n",
      "IMG_0103\n",
      "IMG_0104\n",
      "IMG_0105\n",
      "IMG_0106\n",
      "IMG_0107\n"
     ]
    },
    {
     "name": "stderr",
     "output_type": "stream",
     "text": [
      "\r",
      " 36%|█████████████████████████████████████████████████████████████████████▉                                                                                                                              | 107/300 [00:00<00:00, 205.14it/s]"
     ]
    },
    {
     "name": "stdout",
     "output_type": "stream",
     "text": [
      "IMG_0108\n",
      "IMG_0109\n",
      "IMG_0110\n",
      "IMG_0111\n",
      "IMG_0112\n",
      "IMG_0113\n",
      "IMG_0114\n",
      "IMG_0115\n",
      "IMG_0116\n",
      "IMG_0117\n",
      "IMG_0118\n",
      "IMG_0119\n",
      "IMG_0120\n",
      "IMG_0121\n",
      "IMG_0122\n",
      "IMG_0123\n",
      "IMG_0124\n",
      "IMG_0125\n",
      "IMG_0126\n",
      "IMG_0127\n",
      "IMG_0128\n",
      "IMG_0129\n"
     ]
    },
    {
     "name": "stderr",
     "output_type": "stream",
     "text": [
      "\r",
      " 43%|████████████████████████████████████████████████████████████████████████████████████▎                                                                                                               | 129/300 [00:00<00:00, 207.29it/s]"
     ]
    },
    {
     "name": "stdout",
     "output_type": "stream",
     "text": [
      "IMG_0130\n",
      "IMG_0131\n",
      "IMG_0132\n",
      "IMG_0133\n",
      "IMG_0134\n",
      "IMG_0135\n",
      "IMG_0136\n",
      "IMG_0137\n",
      "IMG_0138\n",
      "IMG_0139\n",
      "IMG_0140\n",
      "IMG_0141\n",
      "IMG_0142\n",
      "IMG_0143\n",
      "IMG_0144\n",
      "IMG_0145\n",
      "IMG_0146\n",
      "IMG_0147\n",
      "IMG_0148\n",
      "IMG_0149\n",
      "IMG_0150\n",
      "IMG_0151\n",
      "IMG_0152\n",
      "IMG_0153\n"
     ]
    },
    {
     "name": "stderr",
     "output_type": "stream",
     "text": [
      "\r",
      " 51%|███████████████████████████████████████████████████████████████████████████████████████████████████▉                                                                                                | 153/300 [00:00<00:00, 210.44it/s]"
     ]
    },
    {
     "name": "stdout",
     "output_type": "stream",
     "text": [
      "IMG_0154\n",
      "IMG_0155\n",
      "IMG_0156\n",
      "IMG_0157\n",
      "IMG_0158\n",
      "IMG_0159\n",
      "IMG_0160\n",
      "IMG_0161\n",
      "IMG_0162\n",
      "IMG_0163\n",
      "IMG_0164\n",
      "IMG_0165\n",
      "IMG_0166\n",
      "IMG_0167\n",
      "IMG_0168\n",
      "IMG_0169\n",
      "IMG_0170\n",
      "IMG_0171\n",
      "IMG_0172\n",
      "IMG_0173\n",
      "IMG_0174\n",
      "IMG_0175\n",
      "IMG_0176\n",
      "IMG_0177\n"
     ]
    },
    {
     "name": "stderr",
     "output_type": "stream",
     "text": [
      "\r",
      " 59%|███████████████████████████████████████████████████████████████████████████████████████████████████████████████████▋                                                                                | 177/300 [00:00<00:00, 213.06it/s]"
     ]
    },
    {
     "name": "stdout",
     "output_type": "stream",
     "text": [
      "IMG_0178\n",
      "IMG_0179\n",
      "IMG_0180\n",
      "IMG_0181\n",
      "IMG_0182\n",
      "IMG_0183\n",
      "IMG_0184\n",
      "IMG_0185\n",
      "IMG_0186\n",
      "IMG_0187\n",
      "IMG_0188\n",
      "IMG_0189\n",
      "IMG_0190\n",
      "IMG_0191\n",
      "IMG_0192\n",
      "IMG_0193\n",
      "IMG_0194\n",
      "IMG_0196\n",
      "IMG_0197\n",
      "IMG_0198\n",
      "IMG_0199\n",
      "IMG_0200\n",
      "IMG_0201\n",
      "IMG_0202\n"
     ]
    },
    {
     "name": "stderr",
     "output_type": "stream",
     "text": [
      "\r",
      " 67%|███████████████████████████████████████████████████████████████████████████████████████████████████████████████████████████████████▎                                                                | 201/300 [00:00<00:00, 215.55it/s]"
     ]
    },
    {
     "name": "stdout",
     "output_type": "stream",
     "text": [
      "IMG_0203\n",
      "IMG_0204\n",
      "IMG_0205\n",
      "IMG_0206\n",
      "IMG_0207\n",
      "IMG_0208\n",
      "IMG_0209\n",
      "IMG_0210\n",
      "IMG_0211\n",
      "IMG_0212\n",
      "IMG_0213\n",
      "IMG_0214\n",
      "IMG_0215\n",
      "IMG_0216\n",
      "IMG_0217\n",
      "IMG_0218\n",
      "IMG_0219\n",
      "IMG_0220\n",
      "IMG_0221\n",
      "IMG_0222\n",
      "IMG_0223\n",
      "IMG_0224\n",
      "IMG_0225\n"
     ]
    },
    {
     "name": "stderr",
     "output_type": "stream",
     "text": [
      "\r",
      " 75%|██████████████████████████████████████████████████████████████████████████████████████████████████████████████████████████████████████████████████▎                                                 | 224/300 [00:01<00:00, 216.38it/s]"
     ]
    },
    {
     "name": "stdout",
     "output_type": "stream",
     "text": [
      "IMG_0226\n",
      "IMG_0227\n",
      "IMG_0228\n",
      "IMG_0229\n",
      "IMG_0230\n",
      "IMG_0231\n",
      "IMG_0232\n",
      "IMG_0233\n",
      "IMG_0234\n",
      "IMG_0235\n",
      "IMG_0236\n",
      "IMG_0237\n",
      "IMG_0238\n",
      "IMG_0239\n",
      "IMG_0240\n",
      "IMG_0242\n",
      "IMG_0243\n",
      "IMG_0244\n",
      "IMG_0245\n",
      "IMG_0246\n",
      "IMG_0247\n",
      "IMG_0248\n"
     ]
    },
    {
     "name": "stderr",
     "output_type": "stream",
     "text": [
      "\r",
      " 82%|████████████████████████████████████████████████████████████████████████████████████████████████████████████████████████████████████████████████████████████████▋                                   | 246/300 [00:01<00:00, 215.80it/s]"
     ]
    },
    {
     "name": "stdout",
     "output_type": "stream",
     "text": [
      "IMG_0249\n",
      "IMG_0250\n",
      "IMG_0251\n",
      "IMG_0252\n",
      "IMG_0253\n",
      "IMG_0254\n",
      "IMG_0255\n",
      "IMG_0256\n",
      "IMG_0257\n",
      "IMG_0258\n",
      "IMG_0259\n",
      "IMG_0260\n",
      "IMG_0261\n",
      "IMG_0262\n",
      "IMG_0263\n",
      "IMG_0264\n",
      "IMG_0265\n",
      "IMG_0266\n",
      "IMG_0267\n",
      "IMG_0268\n",
      "IMG_0269\n",
      "IMG_0270\n",
      "IMG_0271\n"
     ]
    },
    {
     "name": "stderr",
     "output_type": "stream",
     "text": [
      "\r",
      " 90%|███████████████████████████████████████████████████████████████████████████████████████████████████████████████████████████████████████████████████████████████████████████████▋                    | 269/300 [00:01<00:00, 216.12it/s]"
     ]
    },
    {
     "name": "stdout",
     "output_type": "stream",
     "text": [
      "IMG_0272\n",
      "IMG_0273\n",
      "IMG_0274\n",
      "IMG_0275\n",
      "IMG_0276\n",
      "IMG_0277\n",
      "IMG_0278\n",
      "IMG_0279\n",
      "IMG_0280\n",
      "IMG_0281\n",
      "IMG_0282\n",
      "IMG_0283\n",
      "IMG_0284\n",
      "IMG_0285\n",
      "IMG_0286\n",
      "IMG_0287\n",
      "IMG_0288\n",
      "IMG_0289\n",
      "IMG_0290\n",
      "IMG_0291\n",
      "IMG_0292\n",
      "IMG_0293\n",
      "IMG_0294\n"
     ]
    },
    {
     "name": "stderr",
     "output_type": "stream",
     "text": [
      "\r",
      " 97%|██████████████████████████████████████████████████████████████████████████████████████████████████████████████████████████████████████████████████████████████████████████████████████████████▊     | 292/300 [00:01<00:00, 216.88it/s]"
     ]
    },
    {
     "name": "stdout",
     "output_type": "stream",
     "text": [
      "IMG_0295\n",
      "IMG_0296\n",
      "IMG_0297\n",
      "IMG_0298\n",
      "IMG_0299\n",
      "IMG_0300\n",
      "IMG_0301\n",
      "IMG_0302\n"
     ]
    },
    {
     "name": "stderr",
     "output_type": "stream",
     "text": [
      "100%|████████████████████████████████████████████████████████████████████████████████████████████████████████████████████████████████████████████████████████████████████████████████████████████████████| 300/300 [00:01<00:00, 216.87it/s]\n"
     ]
    }
   ],
   "source": [
    "train_data = create_train_data()\n",
    "test_data = process_test_data()\n",
    "# If you have already created the dataset:\n",
    "#train_data = np.load('train_data.npy')"
   ]
  },
  {
   "cell_type": "code",
   "execution_count": 19,
   "metadata": {},
   "outputs": [
    {
     "name": "stdout",
     "output_type": "stream",
     "text": [
      "Requirement already satisfied: tflearn in c:\\users\\mahmo\\anaconda3\\lib\\site-packages (0.3.2)\n",
      "Requirement already satisfied: six in c:\\users\\mahmo\\anaconda3\\lib\\site-packages (from tflearn) (1.11.0)\n",
      "Requirement already satisfied: Pillow in c:\\users\\mahmo\\anaconda3\\lib\\site-packages (from tflearn) (5.0.0)\n",
      "Requirement already satisfied: numpy in c:\\users\\mahmo\\appdata\\roaming\\python\\python36\\site-packages (from tflearn) (1.16.3)\n"
     ]
    },
    {
     "name": "stderr",
     "output_type": "stream",
     "text": [
      "WARNING: You are using pip version 19.1, however version 19.1.1 is available.\n",
      "You should consider upgrading via the 'python -m pip install --upgrade pip' command.\n"
     ]
    }
   ],
   "source": [
    "!pip install tflearn"
   ]
  },
  {
   "cell_type": "code",
   "execution_count": 20,
   "metadata": {},
   "outputs": [
    {
     "name": "stdout",
     "output_type": "stream",
     "text": [
      "Collecting tensorflow_cpu\n"
     ]
    },
    {
     "name": "stderr",
     "output_type": "stream",
     "text": [
      "  ERROR: Could not find a version that satisfies the requirement tensorflow_cpu (from versions: none)\n",
      "ERROR: No matching distribution found for tensorflow_cpu\n",
      "WARNING: You are using pip version 19.1, however version 19.1.1 is available.\n",
      "You should consider upgrading via the 'python -m pip install --upgrade pip' command.\n"
     ]
    }
   ],
   "source": [
    "!pip install tensorflow_cpu"
   ]
  },
  {
   "cell_type": "code",
   "execution_count": 21,
   "metadata": {},
   "outputs": [
    {
     "name": "stdout",
     "output_type": "stream",
     "text": [
      "Requirement already up-to-date: tflearn in c:\\users\\mahmo\\anaconda3\\lib\\site-packages (0.3.2)\n",
      "Requirement already satisfied, skipping upgrade: six in c:\\users\\mahmo\\anaconda3\\lib\\site-packages (from tflearn) (1.11.0)\n",
      "Requirement already satisfied, skipping upgrade: numpy in c:\\users\\mahmo\\appdata\\roaming\\python\\python36\\site-packages (from tflearn) (1.16.3)\n",
      "Requirement already satisfied, skipping upgrade: Pillow in c:\\users\\mahmo\\anaconda3\\lib\\site-packages (from tflearn) (5.0.0)\n"
     ]
    },
    {
     "name": "stderr",
     "output_type": "stream",
     "text": [
      "WARNING: You are using pip version 19.1, however version 19.1.1 is available.\n",
      "You should consider upgrading via the 'python -m pip install --upgrade pip' command.\n"
     ]
    }
   ],
   "source": [
    "!pip install --upgrade tflearn"
   ]
  },
  {
   "cell_type": "code",
   "execution_count": 22,
   "metadata": {},
   "outputs": [],
   "source": [
    "krl = 3\n",
    "drp_out_per = 0.2\n",
    "epoc_n = 7\n",
    "bsize = 20"
   ]
  },
  {
   "cell_type": "code",
   "execution_count": 25,
   "metadata": {
    "scrolled": true
   },
   "outputs": [
    {
     "name": "stdout",
     "output_type": "stream",
     "text": [
      "curses is not supported on this machine (please install/reinstall curses for an optimal experience)\n"
     ]
    }
   ],
   "source": [
    "import tensorflow as tf\n",
    "\n",
    "import tflearn\n",
    "from tflearn.layers.conv import conv_2d, max_pool_2d\n",
    "from tflearn.layers.core import input_data, dropout, fully_connected\n",
    "from tflearn.layers.estimator import regression\n",
    "\n",
    "tf.reset_default_graph()\n",
    "\n",
    "convnet = input_data(shape=[None, IMG_SIZE, IMG_SIZE, 1], name='input')\n",
    "\n",
    "convnet = conv_2d(convnet, 32, krl, activation='relu')\n",
    "convnet = max_pool_2d(convnet, krl)\n",
    "#convnet = dropout(convnet, drp_out_per)\n",
    "\n",
    "convnet = conv_2d(convnet, 64, krl, activation='relu')\n",
    "convnet = max_pool_2d(convnet, krl)\n",
    "#convnet = dropout(convnet, drp_out_per)\n",
    "\n",
    "convnet = conv_2d(convnet, 128, krl, activation='relu')\n",
    "convnet = max_pool_2d(convnet, krl)\n",
    "#convnet = dropout(convnet, drp_out_per)\n",
    "\n",
    "convnet = conv_2d(convnet, 256, krl, activation='relu')\n",
    "convnet = max_pool_2d(convnet, krl)\n",
    "#convnet = dropout(convnet, drp_out_per)\n",
    "\n",
    "convnet = conv_2d(convnet, 512, krl, activation='relu')\n",
    "convnet = max_pool_2d(convnet, krl)\n",
    "#convnet = dropout(convnet, drp_out_per)\n",
    "\n",
    "convnet = fully_connected(convnet, 1024, activation='relu')\n",
    "convnet = dropout(convnet, drp_out_per)\n",
    "\n",
    "convnet = fully_connected(convnet, 2, activation='softmax')\n",
    "convnet = regression(convnet, optimizer='adam', learning_rate=LR, loss='categorical_crossentropy', name='targets')\n",
    "\n",
    "model = tflearn.DNN(convnet, tensorboard_dir='log')\n"
   ]
  },
  {
   "cell_type": "code",
   "execution_count": 24,
   "metadata": {},
   "outputs": [
    {
     "name": "stdout",
     "output_type": "stream",
     "text": [
      "Requirement already satisfied: tflearn in c:\\users\\mahmo\\anaconda3\\lib\\site-packages (0.3.2)\n",
      "Requirement already satisfied: Pillow in c:\\users\\mahmo\\anaconda3\\lib\\site-packages (from tflearn) (5.0.0)\n",
      "Requirement already satisfied: numpy in c:\\users\\mahmo\\appdata\\roaming\\python\\python36\\site-packages (from tflearn) (1.16.3)\n",
      "Requirement already satisfied: six in c:\\users\\mahmo\\anaconda3\\lib\\site-packages (from tflearn) (1.11.0)\n"
     ]
    },
    {
     "name": "stderr",
     "output_type": "stream",
     "text": [
      "WARNING: You are using pip version 19.1, however version 19.1.1 is available.\n",
      "You should consider upgrading via the 'python -m pip install --upgrade pip' command.\n"
     ]
    }
   ],
   "source": [
    "!pip install tflearn"
   ]
  },
  {
   "cell_type": "code",
   "execution_count": 26,
   "metadata": {},
   "outputs": [],
   "source": [
    "if os.path.exists('{}.meta'.format(MODEL_NAME)):\n",
    "    model.load(MODEL_NAME)\n",
    "    print('model loaded!')"
   ]
  },
  {
   "cell_type": "code",
   "execution_count": 27,
   "metadata": {},
   "outputs": [],
   "source": [
    "train = train_data[:-30]\n",
    "test = train_data[-30:]\n",
    "\n",
    "X = np.array([i[0] for i in train]).reshape(-1,IMG_SIZE,IMG_SIZE,1)\n",
    "Y = [i[1] for i in train]\n",
    "\n",
    "test_x = np.array([i[0] for i in test]).reshape(-1,IMG_SIZE,IMG_SIZE,1)\n",
    "test_y = [i[1] for i in test]"
   ]
  },
  {
   "cell_type": "code",
   "execution_count": 28,
   "metadata": {
    "scrolled": false
   },
   "outputs": [
    {
     "name": "stdout",
     "output_type": "stream",
     "text": [
      "Training Step: 34  | total loss: 0.69253 | time: 11.346s\n",
      "| Adam | epoch: 007 | loss: 0.69253 - acc: 0.5324 -- iter: 80/91\n",
      "Training Step: 35  | total loss: 0.68691 | time: 14.389s\n",
      "| Adam | epoch: 007 | loss: 0.68691 - acc: 0.5675 | val_loss: 0.71188 - val_acc: 0.4000 -- iter: 91/91\n",
      "--\n"
     ]
    }
   ],
   "source": [
    "model.fit({'input': X}, {'targets': Y}, n_epoch=epoc_n, batch_size=bsize , \n",
    "          validation_set=({'input': test_x}, {'targets': test_y}), \n",
    "          snapshot_step=500, show_metric=True, run_id=MODEL_NAME)"
   ]
  },
  {
   "cell_type": "code",
   "execution_count": 29,
   "metadata": {},
   "outputs": [
    {
     "data": {
      "text/plain": [
       "array([[0.5432391 , 0.45676085],\n",
       "       [0.54299414, 0.45700592],\n",
       "       [0.54130334, 0.45869666],\n",
       "       [0.54111207, 0.45888793],\n",
       "       [0.54257685, 0.4574231 ],\n",
       "       [0.5400276 , 0.45997232],\n",
       "       [0.5441604 , 0.45583966],\n",
       "       [0.5436983 , 0.4563017 ],\n",
       "       [0.54349273, 0.45650724],\n",
       "       [0.5442844 , 0.45571557],\n",
       "       [0.5432509 , 0.45674908],\n",
       "       [0.54375905, 0.45624098],\n",
       "       [0.5413831 , 0.4586169 ],\n",
       "       [0.54261434, 0.4573857 ],\n",
       "       [0.54786164, 0.45213836],\n",
       "       [0.54534686, 0.45465317],\n",
       "       [0.54492515, 0.45507488],\n",
       "       [0.5445456 , 0.4554544 ],\n",
       "       [0.54251045, 0.45748955],\n",
       "       [0.54300195, 0.45699805],\n",
       "       [0.5426757 , 0.45732427],\n",
       "       [0.54540294, 0.454597  ],\n",
       "       [0.54463756, 0.45536244],\n",
       "       [0.543896  , 0.45610398],\n",
       "       [0.54633313, 0.45366684],\n",
       "       [0.5421926 , 0.4578074 ],\n",
       "       [0.54133576, 0.45866424],\n",
       "       [0.5400458 , 0.45995417],\n",
       "       [0.54458714, 0.45541286],\n",
       "       [0.5459029 , 0.45409715]], dtype=float32)"
      ]
     },
     "execution_count": 29,
     "metadata": {},
     "output_type": "execute_result"
    }
   ],
   "source": [
    "model.predict(test_x)"
   ]
  },
  {
   "cell_type": "code",
   "execution_count": 30,
   "metadata": {},
   "outputs": [
    {
     "name": "stdout",
     "output_type": "stream",
     "text": [
      "[[0.74509804]\n",
      " [0.70980392]\n",
      " [0.63921569]\n",
      " [0.56862745]\n",
      " [0.49019608]\n",
      " [0.41960784]\n",
      " [0.34901961]\n",
      " [0.29803922]\n",
      " [0.25490196]\n",
      " [0.23921569]\n",
      " [0.24705882]\n",
      " [0.26666667]\n",
      " [0.29019608]\n",
      " [0.30196078]\n",
      " [0.30196078]\n",
      " [0.37254902]\n",
      " [0.52156863]\n",
      " [0.61176471]\n",
      " [0.64313725]\n",
      " [0.68627451]\n",
      " [0.7372549 ]\n",
      " [0.78431373]\n",
      " [0.82352941]\n",
      " [0.84313725]\n",
      " [0.84313725]\n",
      " [0.83137255]\n",
      " [0.80784314]\n",
      " [0.8       ]\n",
      " [0.8       ]\n",
      " [0.80784314]\n",
      " [0.82745098]\n",
      " [0.82745098]\n",
      " [0.81176471]\n",
      " [0.80392157]\n",
      " [0.80784314]\n",
      " [0.80784314]\n",
      " [0.81176471]\n",
      " [0.81176471]\n",
      " [0.81568627]\n",
      " [0.81568627]\n",
      " [0.81960784]\n",
      " [0.82352941]\n",
      " [0.82352941]\n",
      " [0.82745098]\n",
      " [0.82745098]\n",
      " [0.83137255]\n",
      " [0.83137255]\n",
      " [0.83137255]\n",
      " [0.83137255]\n",
      " [0.83137255]\n",
      " [0.83137255]\n",
      " [0.83137255]\n",
      " [0.83137255]\n",
      " [0.82745098]\n",
      " [0.82745098]\n",
      " [0.82745098]\n",
      " [0.82745098]\n",
      " [0.82352941]\n",
      " [0.82352941]\n",
      " [0.82352941]\n",
      " [0.82352941]\n",
      " [0.82352941]\n",
      " [0.82352941]\n",
      " [0.82352941]\n",
      " [0.82745098]\n",
      " [0.83137255]\n",
      " [0.83137255]\n",
      " [0.83137255]\n",
      " [0.83137255]\n",
      " [0.83529412]\n",
      " [0.83529412]\n",
      " [0.83529412]\n",
      " [0.83529412]\n",
      " [0.83137255]\n",
      " [0.83137255]\n",
      " [0.83137255]\n",
      " [0.82745098]\n",
      " [0.82745098]\n",
      " [0.82352941]\n",
      " [0.82352941]\n",
      " [0.82352941]\n",
      " [0.82352941]\n",
      " [0.82352941]\n",
      " [0.82352941]\n",
      " [0.82352941]\n",
      " [0.82352941]\n",
      " [0.82352941]\n",
      " [0.82352941]\n",
      " [0.82352941]\n",
      " [0.82352941]\n",
      " [0.82352941]\n",
      " [0.82352941]\n",
      " [0.82352941]\n",
      " [0.82352941]\n",
      " [0.82352941]\n",
      " [0.81960784]\n",
      " [0.81568627]\n",
      " [0.81568627]\n",
      " [0.81568627]\n",
      " [0.81568627]\n",
      " [0.81568627]\n",
      " [0.81568627]\n",
      " [0.81176471]\n",
      " [0.81176471]\n",
      " [0.81176471]\n",
      " [0.81176471]\n",
      " [0.81176471]\n",
      " [0.81176471]\n",
      " [0.80784314]\n",
      " [0.80784314]\n",
      " [0.80784314]\n",
      " [0.80784314]\n",
      " [0.81176471]\n",
      " [0.81176471]\n",
      " [0.81176471]\n",
      " [0.81176471]\n",
      " [0.81176471]\n",
      " [0.81176471]\n",
      " [0.80784314]\n",
      " [0.80784314]\n",
      " [0.80784314]\n",
      " [0.80784314]\n",
      " [0.80784314]\n",
      " [0.80784314]\n",
      " [0.80392157]\n",
      " [0.80392157]\n",
      " [0.80392157]\n",
      " [0.8       ]\n",
      " [0.79607843]\n",
      " [0.79215686]\n",
      " [0.79215686]\n",
      " [0.79215686]\n",
      " [0.79215686]\n",
      " [0.79215686]\n",
      " [0.79607843]\n",
      " [0.79607843]\n",
      " [0.79607843]\n",
      " [0.79607843]\n",
      " [0.8       ]\n",
      " [0.8       ]\n",
      " [0.8       ]\n",
      " [0.8       ]\n",
      " [0.8       ]\n",
      " [0.79607843]\n",
      " [0.78823529]\n",
      " [0.78431373]\n",
      " [0.78431373]\n",
      " [0.78431373]\n",
      " [0.78039216]\n",
      " [0.78039216]\n",
      " [0.78039216]\n",
      " [0.78039216]\n",
      " [0.78039216]\n",
      " [0.78039216]\n",
      " [0.78431373]\n",
      " [0.78431373]\n",
      " [0.78431373]\n",
      " [0.78431373]\n",
      " [0.78431373]\n",
      " [0.72156863]\n",
      " [0.59215686]\n",
      " [0.45490196]\n",
      " [0.30588235]\n",
      " [0.20392157]\n",
      " [0.15294118]\n",
      " [0.14509804]\n",
      " [0.18823529]\n",
      " [0.20392157]\n",
      " [0.2       ]\n",
      " [0.19607843]\n",
      " [0.18431373]\n",
      " [0.18823529]\n",
      " [0.2       ]\n",
      " [0.20392157]\n",
      " [0.2       ]\n",
      " [0.19215686]\n",
      " [0.18039216]\n",
      " [0.19215686]\n",
      " [0.22352941]\n",
      " [0.24705882]\n",
      " [0.2627451 ]\n",
      " [0.2627451 ]\n",
      " [0.24313725]\n",
      " [0.22745098]\n",
      " [0.20784314]\n",
      " [0.2       ]\n",
      " [0.20392157]\n",
      " [0.21568627]\n",
      " [0.22745098]\n",
      " [0.23921569]\n",
      " [0.24313725]\n",
      " [0.23137255]\n",
      " [0.20392157]\n",
      " [0.18823529]\n",
      " [0.19215686]\n",
      " [0.19607843]\n",
      " [0.20392157]\n",
      " [0.21176471]\n",
      " [0.21960784]\n",
      " [0.22745098]\n",
      " [0.23529412]\n",
      " [0.23529412]\n",
      " [0.23529412]\n",
      " [0.22745098]\n",
      " [0.21568627]\n",
      " [0.20392157]\n",
      " [0.19215686]\n",
      " [0.18823529]\n",
      " [0.18823529]\n",
      " [0.19607843]\n",
      " [0.21176471]\n",
      " [0.21960784]\n",
      " [0.22745098]\n",
      " [0.21960784]\n",
      " [0.2       ]\n",
      " [0.18039216]\n",
      " [0.14901961]\n",
      " [0.1254902 ]\n",
      " [0.09803922]\n",
      " [0.07843137]\n",
      " [0.05490196]\n",
      " [0.03921569]\n",
      " [0.02352941]\n",
      " [0.01568627]\n",
      " [0.01568627]\n",
      " [0.01568627]\n",
      " [0.01568627]\n",
      " [0.01568627]\n",
      " [0.01568627]\n",
      " [0.01568627]\n",
      " [0.01960784]\n",
      " [0.01960784]\n",
      " [0.01960784]\n",
      " [0.01960784]\n",
      " [0.01960784]\n",
      " [0.01960784]\n",
      " [0.01960784]\n",
      " [0.01960784]\n",
      " [0.01960784]\n",
      " [0.01960784]\n",
      " [0.02352941]\n",
      " [0.02352941]\n",
      " [0.01960784]\n",
      " [0.01960784]\n",
      " [0.01960784]\n",
      " [0.01960784]\n",
      " [0.01568627]\n",
      " [0.01568627]\n",
      " [0.01568627]\n",
      " [0.01568627]\n",
      " [0.01960784]\n",
      " [0.01960784]\n",
      " [0.01960784]\n",
      " [0.01960784]\n",
      " [0.02352941]\n",
      " [0.02352941]\n",
      " [0.02745098]\n",
      " [0.03137255]\n",
      " [0.03529412]\n",
      " [0.03529412]\n",
      " [0.03529412]\n",
      " [0.03529412]\n",
      " [0.03921569]\n",
      " [0.03921569]\n",
      " [0.04313725]\n",
      " [0.04705882]\n",
      " [0.04705882]\n",
      " [0.05098039]\n",
      " [0.05490196]\n",
      " [0.05490196]\n",
      " [0.05490196]\n",
      " [0.08627451]\n",
      " [0.14901961]\n",
      " [0.18823529]\n",
      " [0.20784314]\n",
      " [0.25098039]\n",
      " [0.3254902 ]\n",
      " [0.38039216]\n",
      " [0.41568627]\n",
      " [0.40392157]\n",
      " [0.34901961]\n",
      " [0.29803922]\n",
      " [0.25490196]\n",
      " [0.23529412]\n",
      " [0.23921569]\n",
      " [0.24313725]\n",
      " [0.23921569]\n",
      " [0.24705882]\n",
      " [0.2627451 ]\n",
      " [0.2627451 ]\n",
      " [0.24705882]\n",
      " [0.25882353]\n",
      " [0.29803922]\n",
      " [0.35686275]\n",
      " [0.43529412]\n",
      " [0.47058824]\n",
      " [0.4627451 ]\n",
      " [0.41568627]\n",
      " [0.31764706]\n",
      " [0.26666667]\n",
      " [0.25882353]\n",
      " [0.30196078]\n",
      " [0.39607843]\n",
      " [0.48627451]\n",
      " [0.57647059]\n",
      " [0.62745098]\n",
      " [0.63529412]\n",
      " [0.63921569]\n",
      " [0.63921569]\n",
      " [0.63529412]\n",
      " [0.62745098]\n",
      " [0.62352941]\n",
      " [0.61960784]\n",
      " [0.62352941]\n",
      " [0.62745098]\n",
      " [0.63137255]\n",
      " [0.63529412]\n",
      " [0.63921569]\n",
      " [0.63529412]\n",
      " [0.63529412]\n",
      " [0.63921569]\n",
      " [0.63921569]\n",
      " [0.63921569]\n",
      " [0.63921569]\n",
      " [0.63921569]\n",
      " [0.63921569]\n",
      " [0.63921569]\n",
      " [0.63921569]\n",
      " [0.63921569]\n",
      " [0.63921569]\n",
      " [0.63921569]\n",
      " [0.63921569]\n",
      " [0.63921569]\n",
      " [0.63921569]\n",
      " [0.63921569]\n",
      " [0.63921569]\n",
      " [0.64313725]\n",
      " [0.64705882]\n",
      " [0.64705882]\n",
      " [0.64705882]\n",
      " [0.64705882]\n",
      " [0.65098039]\n",
      " [0.65098039]\n",
      " [0.65098039]\n",
      " [0.65098039]\n",
      " [0.65098039]\n",
      " [0.65490196]\n",
      " [0.65490196]\n",
      " [0.65490196]\n",
      " [0.65490196]\n",
      " [0.65490196]\n",
      " [0.65490196]\n",
      " [0.65882353]\n",
      " [0.65882353]\n",
      " [0.65882353]\n",
      " [0.65882353]\n",
      " [0.65490196]\n",
      " [0.65490196]\n",
      " [0.65490196]\n",
      " [0.65490196]\n",
      " [0.65882353]\n",
      " [0.65882353]\n",
      " [0.65882353]\n",
      " [0.6627451 ]\n",
      " [0.6627451 ]\n",
      " [0.6627451 ]\n",
      " [0.6627451 ]\n",
      " [0.6627451 ]\n",
      " [0.65882353]\n",
      " [0.65882353]\n",
      " [0.65882353]\n",
      " [0.65882353]\n",
      " [0.65882353]\n",
      " [0.65882353]\n",
      " [0.65882353]\n",
      " [0.65882353]\n",
      " [0.65882353]\n",
      " [0.65882353]\n",
      " [0.65882353]\n",
      " [0.65882353]\n",
      " [0.65882353]\n",
      " [0.65882353]\n",
      " [0.65882353]\n",
      " [0.6627451 ]\n",
      " [0.66666667]\n",
      " [0.67058824]\n",
      " [0.67058824]\n",
      " [0.67058824]\n",
      " [0.67058824]\n",
      " [0.67058824]\n",
      " [0.67058824]\n",
      " [0.67058824]\n",
      " [0.67058824]\n",
      " [0.67058824]\n",
      " [0.67058824]\n",
      " [0.67058824]\n",
      " [0.67058824]\n",
      " [0.67058824]\n",
      " [0.67058824]\n",
      " [0.67058824]\n",
      " [0.67058824]\n",
      " [0.67058824]\n",
      " [0.67058824]\n",
      " [0.67058824]\n",
      " [0.67058824]\n",
      " [0.67058824]\n",
      " [0.67058824]\n",
      " [0.67058824]\n",
      " [0.67058824]\n",
      " [0.67058824]\n",
      " [0.67058824]\n",
      " [0.67058824]\n",
      " [0.67058824]\n",
      " [0.67058824]\n",
      " [0.67058824]\n",
      " [0.67058824]\n",
      " [0.66666667]\n",
      " [0.66666667]\n",
      " [0.66666667]\n",
      " [0.66666667]\n",
      " [0.66666667]\n",
      " [0.66666667]\n",
      " [0.67058824]\n",
      " [0.67058824]\n",
      " [0.67058824]\n",
      " [0.67058824]\n",
      " [0.6745098 ]\n",
      " [0.6745098 ]\n",
      " [0.6745098 ]\n",
      " [0.6745098 ]\n",
      " [0.6745098 ]\n",
      " [0.6745098 ]\n",
      " [0.6745098 ]\n",
      " [0.6745098 ]\n",
      " [0.6745098 ]\n",
      " [0.6745098 ]\n",
      " [0.6745098 ]\n",
      " [0.6745098 ]\n",
      " [0.6745098 ]\n",
      " [0.6745098 ]\n",
      " [0.6745098 ]\n",
      " [0.6745098 ]\n",
      " [0.6745098 ]\n",
      " [0.6745098 ]\n",
      " [0.6745098 ]\n",
      " [0.6745098 ]\n",
      " [0.6745098 ]\n",
      " [0.6745098 ]\n",
      " [0.6745098 ]\n",
      " [0.6745098 ]\n",
      " [0.6745098 ]\n",
      " [0.6745098 ]\n",
      " [0.6745098 ]\n",
      " [0.67843137]\n",
      " [0.67843137]\n",
      " [0.67843137]\n",
      " [0.67843137]\n",
      " [0.67843137]\n",
      " [0.68235294]\n",
      " [0.68235294]\n",
      " [0.68235294]\n",
      " [0.68235294]\n",
      " [0.68235294]\n",
      " [0.67843137]\n",
      " [0.6745098 ]\n",
      " [0.67058824]\n",
      " [0.67058824]\n",
      " [0.67058824]\n",
      " [0.67058824]\n",
      " [0.67058824]\n",
      " [0.6745098 ]\n",
      " [0.6745098 ]\n",
      " [0.6745098 ]\n",
      " [0.6745098 ]\n",
      " [0.67843137]\n",
      " [0.67843137]\n",
      " [0.67843137]\n",
      " [0.67843137]\n",
      " [0.67843137]\n",
      " [0.67843137]\n",
      " [0.68235294]\n",
      " [0.68235294]\n",
      " [0.68235294]\n",
      " [0.68235294]\n",
      " [0.68235294]\n",
      " [0.68235294]\n",
      " [0.68235294]\n",
      " [0.68235294]\n",
      " [0.68235294]\n",
      " [0.68235294]\n",
      " [0.68235294]\n",
      " [0.68235294]\n",
      " [0.68235294]\n",
      " [0.68235294]\n",
      " [0.68235294]\n",
      " [0.68235294]\n",
      " [0.68235294]\n",
      " [0.68235294]\n",
      " [0.68235294]\n",
      " [0.68235294]\n",
      " [0.68235294]\n",
      " [0.68235294]\n",
      " [0.68235294]\n",
      " [0.68235294]\n",
      " [0.68235294]\n",
      " [0.68235294]\n",
      " [0.68235294]\n",
      " [0.68235294]\n",
      " [0.68235294]\n",
      " [0.68235294]\n",
      " [0.68235294]\n",
      " [0.68235294]]\n"
     ]
    }
   ],
   "source": [
    "print(test_x[2][1])"
   ]
  },
  {
   "cell_type": "code",
   "execution_count": null,
   "metadata": {},
   "outputs": [],
   "source": []
  },
  {
   "cell_type": "code",
   "execution_count": 18,
   "metadata": {},
   "outputs": [],
   "source": [
    "from PIL import Image"
   ]
  },
  {
   "cell_type": "code",
   "execution_count": 31,
   "metadata": {},
   "outputs": [],
   "source": [
    "def process_test_data():\n",
    "    testing_data = []\n",
    "    for img in tqdm(os.listdir(TEST_DIR)):\n",
    "        path = os.path.join(TEST_DIR,img)\n",
    "        img_num = img.split('.')[0]\n",
    "        img = cv2.imread(path,cv2.IMREAD_GRAYSCALE)\n",
    "        img = cv2.resize(img, (IMG_SIZE,IMG_SIZE))\n",
    "        testing_data.append([np.array(img), img_num])\n",
    "        \n",
    "    shuffle(testing_data)\n",
    "    np.save('test_data.npy', testing_data)"
   ]
  },
  {
   "cell_type": "code",
   "execution_count": null,
   "metadata": {},
   "outputs": [],
   "source": []
  },
  {
   "cell_type": "code",
   "execution_count": 32,
   "metadata": {},
   "outputs": [
    {
     "name": "stdout",
     "output_type": "stream",
     "text": [
      "0.45676085\n",
      "0.45700592\n",
      "0.45869666\n",
      "0.45888793\n",
      "0.4574231\n",
      "0.45997232\n",
      "0.45583966\n",
      "0.4563017\n",
      "0.45650724\n",
      "0.45571557\n",
      "0.45674908\n",
      "0.45624098\n",
      "0.4586169\n",
      "0.4573857\n",
      "0.45213836\n",
      "0.45465317\n",
      "0.45507488\n",
      "0.4554544\n",
      "0.45748955\n",
      "0.45699805\n",
      "0.45732427\n",
      "0.454597\n",
      "0.45536244\n",
      "0.45610398\n",
      "0.45366684\n",
      "0.4578074\n",
      "0.45866424\n",
      "0.45995417\n",
      "0.45541286\n",
      "0.45409715\n"
     ]
    }
   ],
   "source": [
    "prediction = model.predict(test_x)\n",
    "for i in range(len(test_x)):\n",
    "    print(prediction[i][1])"
   ]
  },
  {
   "cell_type": "markdown",
   "metadata": {},
   "source": [
    "===== TESTING THE MODEL ===== TESTING THE MODEL ===== TESTING THE MODEL ===== TESTING THE MODEL ===== "
   ]
  },
  {
   "cell_type": "code",
   "execution_count": 33,
   "metadata": {},
   "outputs": [],
   "source": [
    "X_DIR = 'X'\n",
    "import numpy as np\n",
    "from PIL import Image\n",
    "import matplotlib.pyplot as plt\n",
    "%matplotlib inline\n",
    "def create_X_data(var):\n",
    "    training_data = []\n",
    "    label = [0.0,1.0] #'bad'\n",
    "    img = cv2.imread(var,cv2.IMREAD_GRAYSCALE)\n",
    "    img = cv2.resize(img, (IMG_SIZE,IMG_SIZE))/255\n",
    "    training_data.append([np.array(img),np.array(label)])\n",
    "    \n",
    "    shuffle(training_data)\n",
    "    np.save('train_data.npy', training_data)\n",
    "    \n",
    "\n",
    "    #im = image_path = cv2.imread('dataset\\\\good\\\\IMG_9002.JPG') #np.array(Image.open(image_path))\n",
    "\n",
    "    \n",
    "    return training_data\n"
   ]
  },
  {
   "cell_type": "markdown",
   "metadata": {},
   "source": [
    "## Testing part of the code "
   ]
  },
  {
   "cell_type": "code",
   "execution_count": 35,
   "metadata": {},
   "outputs": [
    {
     "name": "stdout",
     "output_type": "stream",
     "text": [
      "1\n"
     ]
    }
   ],
   "source": [
    "pic = 'D:\\\\_ashraf\\\\igood300\\\\IMG_9001.JPG'\n",
    "X_data = create_X_data(pic)\n",
    "print(len(X_data))\n",
    "X_1 = []\n",
    "X_1 = np.array([i[0] for i in X_data]).reshape(-1,IMG_SIZE,IMG_SIZE,1)\n",
    "Y = [i[1] for i in X_data]\n",
    "\n",
    "#print(yhat)"
   ]
  },
  {
   "cell_type": "markdown",
   "metadata": {},
   "source": [
    "## Reading image from webcamera "
   ]
  },
  {
   "cell_type": "code",
   "execution_count": null,
   "metadata": {},
   "outputs": [],
   "source": [
    "import cv2\n",
    "if cap: \n",
    "    cap.release()\n",
    "\n",
    "cap=cv2.VideoCapture(0)\n",
    "if cap.isOpened(): \n",
    "    ret, frame=cap.read()\n",
    "   # print(ret)\n",
    "   # print(frame)\n",
    "else: \n",
    "    ret=False\n",
    "imge1=cv2.cvtColor(frame, cv2.COLOR_BGR2GRAY)\n",
    "plt.imshow(imge1)\n",
    "plt.title(\"color image \")\n",
    "plt.xticks([])\n",
    "plt.yticks([])\n",
    "plt.show()\n",
    "\n",
    "# save image\n",
    "status = cv2.imwrite('testImage.png',imge1)\n",
    " \n",
    "#print(\"Image written to file-system : \",status)\n",
    "cap.release()\n",
    "#del(cap)"
   ]
  },
  {
   "cell_type": "code",
   "execution_count": 72,
   "metadata": {},
   "outputs": [],
   "source": [
    "#cam.release()"
   ]
  },
  {
   "cell_type": "code",
   "execution_count": 38,
   "metadata": {},
   "outputs": [
    {
     "data": {
      "image/png": "[encoded data removed]",
      "text/plain": [
       "<Figure size 432x288 with 1 Axes>"
      ]
     },
     "metadata": {},
     "output_type": "display_data"
    },
    {
     "name": "stdout",
     "output_type": "stream",
     "text": [
      "Sending 'This is a Good Product' to +15193001412\n"
     ]
    }
   ],
   "source": [
    "proba = model.predict(X_1)\n",
    "#print(proba)\n",
    "#print( proba.argmax(axis=-1))\n",
    "idxs = np.argsort(proba)[::-1][:2]\n",
    "#print(idxs)\n",
    "y = \"\"\n",
    "if idxs[0][1]==1:\n",
    "    y=\"This is a Bad Product\"\n",
    "else:\n",
    "    y=\"This is a Good Product\"\n",
    "\n",
    "image_path = cv2.imread(pic)\n",
    "#cv2.imshow('image',image_path)\n",
    "#cv2.waitKey(0)\n",
    "#cv2.destroyAllWindows()\n",
    "\n",
    "\n",
    "\n",
    "#im = image_path = cv2.imread('dataset\\\\good\\\\IMG_9002.JPG') #np.array(Image.open(image_path))\n",
    "\n",
    "plt.imshow(image_path)\n",
    "plt.title(y.upper())\n",
    "plt.show()\n",
    "\n",
    "\n",
    "# Sending SMS to a phone number\n",
    "\n",
    "import time\n",
    "from sinchsms import SinchSMS\n",
    "\n",
    "number = '+15193001412'\n",
    "#message = message1.upper()\n",
    "message = y\n",
    "\n",
    "\n",
    "client = SinchSMS('ce00e956-0ec9-47f7-9000-e68a6926a964', 'mN1Udit8NkeRdcpHSOb3mQ==')\n",
    "\n",
    "print(\"Sending '%s' to %s\" % (message, number))\n",
    "response = client.send_message(number, message)\n",
    "message_id = response['messageId']\n",
    "\n",
    "response = client.check_status(message_id)\n",
    "while response['status'] != 'Successful':\n",
    "    print(response['status'])\n",
    "    time.sleep(1)\n",
    "    response = client.check_status(message_id)\n",
    "    print(response['status'])\n"
   ]
  },
  {
   "cell_type": "code",
   "execution_count": 37,
   "metadata": {},
   "outputs": [
    {
     "name": "stdout",
     "output_type": "stream",
     "text": [
      "Collecting sinchsms\n",
      "  Using cached https://files.pythonhosted.org/packages/36/4c/47099a633d0ec855344962871b85b1f4006062b5261d3870e00ca678dccb/sinchsms-1.0.4.tar.gz\n",
      "Building wheels for collected packages: sinchsms\n",
      "  Building wheel for sinchsms (setup.py): started\n",
      "  Building wheel for sinchsms (setup.py): finished with status 'done'\n",
      "  Stored in directory: C:\\Users\\mahmo\\AppData\\Local\\pip\\Cache\\wheels\\f2\\ab\\b2\\2fc205820f124ae00fff14d5b5f25c08ba038c313b7e851d2c\n",
      "Successfully built sinchsms\n",
      "Installing collected packages: sinchsms\n",
      "Successfully installed sinchsms-1.0.4\n"
     ]
    },
    {
     "name": "stderr",
     "output_type": "stream",
     "text": [
      "WARNING: You are using pip version 19.1, however version 19.1.1 is available.\n",
      "You should consider upgrading via the 'python -m pip install --upgrade pip' command.\n"
     ]
    }
   ],
   "source": [
    "!pip install sinchsms"
   ]
  },
  {
   "cell_type": "code",
   "execution_count": null,
   "metadata": {},
   "outputs": [],
   "source": []
  },
  {
   "cell_type": "code",
   "execution_count": null,
   "metadata": {},
   "outputs": [],
   "source": [
    "import time\n",
    "from sinchsms import SinchSMS\n",
    "\n",
    "number = '+15193001412'\n",
    "#message = message1.upper()\n",
    "message = y\n",
    "\n",
    "\n",
    "client = SinchSMS('ce00e956-0ec9-47f7-9000-e68a6926a964', 'mN1Udit8NkeRdcpHSOb3mQ==')\n",
    "\n",
    "print(\"Sending '%s' to %s\" % (message, number))\n",
    "response = client.send_message(number, message)\n",
    "message_id = response['messageId']\n",
    "\n",
    "response = client.check_status(message_id)\n",
    "while response['status'] != 'Successful':\n",
    "    print(response['status'])\n",
    "    time.sleep(1)\n",
    "    response = client.check_status(message_id)\n",
    "    print(response['status'])"
   ]
  }
 ],
 "metadata": {
  "kernelspec": {
   "display_name": "Python [default]",
   "language": "python",
   "name": "python3"
  },
  "language_info": {
   "codemirror_mode": {
    "name": "ipython",
    "version": 3
   },
   "file_extension": ".py",
   "mimetype": "text/x-python",
   "name": "python",
   "nbconvert_exporter": "python",
   "pygments_lexer": "ipython3",
   "version": "3.6.4"
  }
 },
 "nbformat": 4,
 "nbformat_minor": 2
}
